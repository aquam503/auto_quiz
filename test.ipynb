{
 "cells": [
  {
   "cell_type": "code",
   "execution_count": 5,
   "metadata": {},
   "outputs": [
    {
     "name": "stdout",
     "output_type": "stream",
     "text": [
      "Listening...\n",
      "Transcribing...\n",
      "Transcription: machine learning\n"
     ]
    }
   ],
   "source": [
    "import speech_recognition as sr\n",
    "\n",
    "# Create a recognizer object\n",
    "r = sr.Recognizer()\n",
    "\n",
    "# Function to transcribe audio from microphone\n",
    "def transcribe_audio():\n",
    "    # Use the default system microphone as the audio source\n",
    "    with sr.Microphone() as source:\n",
    "        print(\"Listening...\")\n",
    "\n",
    "        # Adjust ambient noise for better recognition (if needed)\n",
    "        r.adjust_for_ambient_noise(source)\n",
    "\n",
    "        # Listen for audio input\n",
    "        audio = r.listen(source)\n",
    "\n",
    "        print(\"Transcribing...\")\n",
    "\n",
    "        try:\n",
    "            # Transcribe the audio using the Google Web Speech API\n",
    "            text = r.recognize_google(audio)\n",
    "            return text\n",
    "        except sr.UnknownValueError:\n",
    "            print(\"Could not understand audio\")\n",
    "        except sr.RequestError as e:\n",
    "            print(\"Error: {0}\".format(e))\n",
    "\n",
    "# Call the function to transcribe audio\n",
    "response = transcribe_audio()\n",
    "\n",
    "# Print the transcribed response\n",
    "print(\"Transcription:\", response)"
   ]
  },
  {
   "cell_type": "code",
   "execution_count": 3,
   "metadata": {},
   "outputs": [],
   "source": [
    "import openai\n",
    "# Set up your OpenAI API credentials\n",
    "openai.api_key = 'sk-aLC2COfubCWWxzdb9JCXT3BlbkqFJ8IkCXv519vThuZUtguCO'"
   ]
  },
  {
   "cell_type": "code",
   "execution_count": null,
   "metadata": {},
   "outputs": [],
   "source": [
    "import openai\n",
    "# Generate quiz questions using OpenAI GPT-3\n",
    "def generate_quiz(response):\n",
    "    prompt = f\"Create a quiz contains 8 question quiz about {response} in that format = [ ['Question 1', 'Option 1', 'Option 2', 'Option 3', 'Option 4', 'Correct Answer'],['Question 2', 'Option 1', 'Option 2', 'Option 3', 'Option 4', 'Correct Answer'],['Question 3', 'Option 1', 'Option 2', 'Option 3', 'Option 4', 'Correct Answer'],['Question 4', 'Option 1', 'Option 2', 'Option 3', 'Option 4', 'Correct Answer']] in one line:\\n\"\n",
    "    response = openai.Completion.create(\n",
    "        engine=\"text-davinci-003\",\n",
    "        prompt=prompt,\n",
    "        temperature=0.7,\n",
    "        max_tokens=500,\n",
    "        n=1,  # Number of questions to generate\n",
    "        stop=None,\n",
    "        frequency_penalty=0.5,\n",
    "        presence_penalty=0.0\n",
    "    )\n",
    "    questions = response.choices\n",
    "\n",
    "    # Format the generated questions\n",
    "    quiz = \"\"\n",
    "    for i, question in enumerate(questions):\n",
    "        if 'text' in question:\n",
    "            quiz += f\"{question['text'].strip()}\\n\"\n",
    "            #quiz += f\"A{i + 1}:\\n\\n\"\n",
    "\n",
    "    return quiz\n",
    "\n",
    "# Generate the quiz\n",
    "generated_quiz = generate_quiz(response=response)\n",
    "\n",
    "# Print the generated quiz\n",
    "print(\"Generated Quiz:\")\n",
    "print(generated_quiz)"
   ]
  },
  {
   "cell_type": "code",
   "execution_count": null,
   "metadata": {},
   "outputs": [
    {
     "data": {
      "text/plain": [
       "\"[['What is Machine Learning?', 'A type of advanced statistical analysis', 'The process of using algorithms to parse data, learn from it, and make decisions or predictions', 'A type of artificial intelligence', 'A tool used to find patterns in data', 'The process of using algorithms to parse data, learn from it, and make decisions or predictions'], ['What are the three types of machine learning?', 'Supervised Learning, Unsupervised Learning, and Reinforcement Learning', 'Training Data, Testing Data, and Validation Data', 'Regression Analysis, Classification Analysis, and Clustering Analysis', 'K-Means Clustering Algorithm, Naive Bayes Algorithm, and Support Vector Machines','Supervised Learning, Unsupervised Learning, and Reinforcement Learning'], ['What is supervised learning?','The process of testing a model on known input and output data to fine-tune its performance','The process of using algorithms to parse data and make predictions without any labeled data','The process of training a model on a labeled dataset to predict outcomes for unlabeled datasets','The process of training a model on an unlabeled dataset to predict outcomes for labeled datasets','The process of training a model on a labeled dataset to predict outcomes for unlabeled datasets'], ['What is unsupervised learning?','The process of testing a model on known input and output data to fine-tune its performance','The process of using algorithms to parse data and make predictions without any labeled data','The process of training a model on a labeled dataset to predict outcomes for unlabeled datasets','The process of training a model on an unlabeled dataset to predict outcomes for labeled datasets','The process of using algorithms to parse data and make predictions without any labeled data']]\\n\""
      ]
     },
     "execution_count": 204,
     "metadata": {},
     "output_type": "execute_result"
    }
   ],
   "source": [
    "generated_quiz"
   ]
  },
  {
   "cell_type": "code",
   "execution_count": null,
   "metadata": {},
   "outputs": [
    {
     "name": "stdout",
     "output_type": "stream",
     "text": [
      "[['What is Machine Learning?', 'A type of advanced statistical analysis', 'The process of using algorithms to parse data, learn from it, and make decisions or predictions', 'A type of artificial intelligence', 'A tool used to find patterns in data', 'The process of using algorithms to parse data, learn from it, and make decisions or predictions'], ['What are the three types of machine learning?', 'Supervised Learning, Unsupervised Learning, and Reinforcement Learning', 'Training Data, Testing Data, and Validation Data', 'Regression Analysis, Classification Analysis, and Clustering Analysis', 'K-Means Clustering Algorithm, Naive Bayes Algorithm, and Support Vector Machines', 'Supervised Learning, Unsupervised Learning, and Reinforcement Learning'], ['What is supervised learning?', 'The process of testing a model on known input and output data to fine-tune its performance', 'The process of using algorithms to parse data and make predictions without any labeled data', 'The process of training a model on a labeled dataset to predict outcomes for unlabeled datasets', 'The process of training a model on an unlabeled dataset to predict outcomes for labeled datasets', 'The process of training a model on a labeled dataset to predict outcomes for unlabeled datasets'], ['What is unsupervised learning?', 'The process of testing a model on known input and output data to fine-tune its performance', 'The process of using algorithms to parse data and make predictions without any labeled data', 'The process of training a model on a labeled dataset to predict outcomes for unlabeled datasets', 'The process of training a model on an unlabeled dataset to predict outcomes for labeled datasets', 'The process of using algorithms to parse data and make predictions without any labeled data']]\n"
     ]
    }
   ],
   "source": [
    "quiz_list = eval(generated_quiz)\n",
    "print(quiz_list)"
   ]
  },
  {
   "cell_type": "code",
   "execution_count": null,
   "metadata": {},
   "outputs": [],
   "source": [
    "'''questions=questions[1:len(questions)-1]\n",
    "questions=generated_quiz.split('\\n')\n",
    "questions=questions[1:len(questions)-1]'''"
   ]
  },
  {
   "cell_type": "code",
   "execution_count": null,
   "metadata": {},
   "outputs": [
    {
     "data": {
      "text/plain": [
       "4"
      ]
     },
     "execution_count": 207,
     "metadata": {},
     "output_type": "execute_result"
    }
   ],
   "source": [
    "len(quiz_list)"
   ]
  },
  {
   "cell_type": "code",
   "execution_count": null,
   "metadata": {},
   "outputs": [
    {
     "name": "stdout",
     "output_type": "stream",
     "text": [
      "['What is Machine Learning?', 'A type of advanced statistical analysis', 'The process of using algorithms to parse data, learn from it, and make decisions or predictions', 'A type of artificial intelligence', 'A tool used to find patterns in data', 'The process of using algorithms to parse data, learn from it, and make decisions or predictions'] <class 'list'> 6\n",
      "['What are the three types of machine learning?', 'Supervised Learning, Unsupervised Learning, and Reinforcement Learning', 'Training Data, Testing Data, and Validation Data', 'Regression Analysis, Classification Analysis, and Clustering Analysis', 'K-Means Clustering Algorithm, Naive Bayes Algorithm, and Support Vector Machines', 'Supervised Learning, Unsupervised Learning, and Reinforcement Learning'] <class 'list'> 6\n",
      "['What is supervised learning?', 'The process of testing a model on known input and output data to fine-tune its performance', 'The process of using algorithms to parse data and make predictions without any labeled data', 'The process of training a model on a labeled dataset to predict outcomes for unlabeled datasets', 'The process of training a model on an unlabeled dataset to predict outcomes for labeled datasets', 'The process of training a model on a labeled dataset to predict outcomes for unlabeled datasets'] <class 'list'> 6\n",
      "['What is unsupervised learning?', 'The process of testing a model on known input and output data to fine-tune its performance', 'The process of using algorithms to parse data and make predictions without any labeled data', 'The process of training a model on a labeled dataset to predict outcomes for unlabeled datasets', 'The process of training a model on an unlabeled dataset to predict outcomes for labeled datasets', 'The process of using algorithms to parse data and make predictions without any labeled data'] <class 'list'> 6\n"
     ]
    }
   ],
   "source": [
    "for e in quiz_list :\n",
    "    print(e,type(e),len(e))"
   ]
  },
  {
   "cell_type": "code",
   "execution_count": null,
   "metadata": {},
   "outputs": [],
   "source": [
    "import requests"
   ]
  },
  {
   "attachments": {},
   "cell_type": "markdown",
   "metadata": {},
   "source": [
    "# Method 1 : using Apps Script"
   ]
  },
  {
   "cell_type": "code",
   "execution_count": null,
   "metadata": {},
   "outputs": [],
   "source": [
    "generated_quiz = generate_quiz(response=response)\n",
    "quiz_list = eval(generated_quiz)"
   ]
  },
  {
   "cell_type": "code",
   "execution_count": 10,
   "metadata": {},
   "outputs": [],
   "source": [
    "converted_list = []\n",
    "\n",
    "for i, quiz in enumerate(quiz_list):\n",
    "    question = quiz[0]\n",
    "    options = quiz[1:len(quiz)-1]\n",
    "    \n",
    "    converted_quiz = {\n",
    "        \"question\": question,\n",
    "        \"options\": options,\n",
    "        \"id\": i\n",
    "    }\n",
    "    \n",
    "    converted_list.append(converted_quiz)"
   ]
  },
  {
   "cell_type": "code",
   "execution_count": 11,
   "metadata": {},
   "outputs": [],
   "source": [
    "quiz_list=converted_list"
   ]
  },
  {
   "cell_type": "code",
   "execution_count": 13,
   "metadata": {},
   "outputs": [
    {
     "name": "stdout",
     "output_type": "stream",
     "text": [
      "https://docs.google.com/forms/d/e/1FAIpQLSevPb-v6KzvoPLxWsmtp74w1ncX2g2BjVB5XYDJ7H0cPm1HdA/viewform\n"
     ]
    }
   ],
   "source": [
    "import requests\n",
    "import json\n",
    "quiz_list=converted_list\n",
    "# Define your form details and questionnaire\n",
    "formDetails = {\n",
    "    \"title\": \"Quiz Form\",\n",
    "    \"description\": \"This is a quiz form.\",\n",
    "    \"questionaire\": converted_list\n",
    "}\n",
    "# Convert your data to JSON\n",
    "data = json.dumps(converted_list)\n",
    "# Define your Google Apps Script URL\n",
    "url = \"https://script.google.com/macros/s/AKfycbyWM2tmLWBw9Jdpt2oo2W6hGEtePvKmeIRMWXcm-KmMv2gwxFPGRtgAJ1mtpX14ynOYZA/exec\"\n",
    "# Send a POST request\n",
    "response = requests.post(url, data)\n",
    "# Print the response text\n",
    "print(response.text)"
   ]
  },
  {
   "attachments": {},
   "cell_type": "markdown",
   "metadata": {},
   "source": [
    "# Method 2 : using Google Form Api"
   ]
  },
  {
   "attachments": {},
   "cell_type": "markdown",
   "metadata": {},
   "source": [
    "### see s.py file"
   ]
  }
 ],
 "metadata": {
  "kernelspec": {
   "display_name": "Python 3",
   "language": "python",
   "name": "python3"
  },
  "language_info": {
   "codemirror_mode": {
    "name": "ipython",
    "version": 3
   },
   "file_extension": ".py",
   "mimetype": "text/x-python",
   "name": "python",
   "nbconvert_exporter": "python",
   "pygments_lexer": "ipython3",
   "version": "3.10.2"
  },
  "orig_nbformat": 4
 },
 "nbformat": 4,
 "nbformat_minor": 2
}
